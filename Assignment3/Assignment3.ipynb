{
 "cells": [
  {
   "cell_type": "markdown",
   "metadata": {},
   "source": [
    "# Assignment 3\n",
    "#### Dan Cardall, Xiaoyan Mi, Pablo"
   ]
  },
  {
   "cell_type": "code",
   "execution_count": 3,
   "metadata": {},
   "outputs": [],
   "source": [
    "from payoffs import *\n",
    "from pricers import *"
   ]
  },
  {
   "cell_type": "markdown",
   "metadata": {},
   "source": [
    "## Problem 1"
   ]
  },
  {
   "cell_type": "code",
   "execution_count": 30,
   "metadata": {},
   "outputs": [],
   "source": [
    "spot = 41.0\n",
    "strike = 40.0\n",
    "rate = 0.08\n",
    "vol = 0.3\n",
    "div = 0.0\n",
    "expiry = 1.0\n",
    "steps = 52\n",
    "reps = [1000, 10000, 25000, 50000, 75000, 100000]"
   ]
  },
  {
   "cell_type": "code",
   "execution_count": 19,
   "metadata": {},
   "outputs": [],
   "source": [
    "the_call = VanillaOption(strike, expiry, call_payoff)\n",
    "the_put = VanillaOption(strike, expiry, put_payoff)"
   ]
  },
  {
   "cell_type": "code",
   "execution_count": 31,
   "metadata": {},
   "outputs": [
    {
     "name": "stdout",
     "output_type": "stream",
     "text": [
      "Naive Monte Carlo Call with  1000  reps: \n",
      " Estimated Price:   7.0311 \n",
      " Standard Error:   0.3412\n",
      "Naive Monte Carlo Put with  1000  reps: \n",
      " Estimated Price:   2.9624 \n",
      " Standard Error:   0.1595\n",
      "Naive Monte Carlo Call with  10000  reps: \n",
      " Estimated Price:   6.9795 \n",
      " Standard Error:   0.1064\n",
      "Naive Monte Carlo Put with  10000  reps: \n",
      " Estimated Price:   2.8966 \n",
      " Standard Error:   0.0494\n",
      "Naive Monte Carlo Call with  25000  reps: \n",
      " Estimated Price:   7.0540 \n",
      " Standard Error:   0.0682\n",
      "Naive Monte Carlo Put with  25000  reps: \n",
      " Estimated Price:   2.8923 \n",
      " Standard Error:   0.0314\n",
      "Naive Monte Carlo Call with  50000  reps: \n",
      " Estimated Price:   6.9673 \n",
      " Standard Error:   0.0478\n",
      "Naive Monte Carlo Put with  50000  reps: \n",
      " Estimated Price:   2.8846 \n",
      " Standard Error:   0.0221\n",
      "Naive Monte Carlo Call with  75000  reps: \n",
      " Estimated Price:   7.0687 \n",
      " Standard Error:   0.0395\n",
      "Naive Monte Carlo Put with  75000  reps: \n",
      " Estimated Price:   2.8767 \n",
      " Standard Error:   0.0181\n",
      "Naive Monte Carlo Call with  100000  reps: \n",
      " Estimated Price:   6.9641 \n",
      " Standard Error:   0.0339\n",
      "Naive Monte Carlo Put with  100000  reps: \n",
      " Estimated Price:   2.8732 \n",
      " Standard Error:   0.0156\n"
     ]
    }
   ],
   "source": [
    "for i in range(len(reps)):\n",
    "    result_call = naive_monte_carlo_pricer(the_call, spot, rate, vol, div, reps[i])\n",
    "    result_put = naive_monte_carlo_pricer(the_put, spot, rate, vol, div, reps[i]) \n",
    "    print(\"Naive Monte Carlo Call with \", reps[i], \" reps: \\n Estimated Price: %8.4f \\n Standard Error: %8.4f\" % (result_call[0], result_call[1]))\n",
    "    print(\"Naive Monte Carlo Put with \", reps[i], \" reps: \\n Estimated Price: %8.4f \\n Standard Error: %8.4f\" % (result_put[0], result_put[1]))"
   ]
  },
  {
   "cell_type": "markdown",
   "metadata": {},
   "source": [
    "| Number of Repitions | Estimated Price of Call | Standard Error of Call | Estimated Price of Put | Standard Error of Put|\n",
    "|------|------|------|------|------|\n",
    "| M = 1000   | 7.0311 | 0.3412 | 2.9624 | 0.1595 |\n",
    "| M = 10000  | 6.9795 | 0.1064 | 2.8966 | 0.0494 |\n",
    "| M = 25000  | 7.0540 | 0.0682 | 2.8923 | 0.0314 |\n",
    "| M = 50000  | 6.9673 | 0.0478 | 2.8846 | 0.0221 |\n",
    "| M = 75000  | 7.0687 | 0.0395 | 2.8767 | 0.0181 |\n",
    "| M = 100000 | 6.9641 | 0.0339 | 2.8732 | 0.0156 |\n",
    "\n"
   ]
  },
  {
   "cell_type": "markdown",
   "metadata": {},
   "source": [
    "### Results\n",
    "We can see in the table above that as the number of repitions goes up, the standard error of both the estimated call price and the estimated put price decreases.  "
   ]
  },
  {
   "cell_type": "markdown",
   "metadata": {},
   "source": [
    "## Problem 2"
   ]
  },
  {
   "cell_type": "code",
   "execution_count": 32,
   "metadata": {},
   "outputs": [],
   "source": [
    "spot = 41.0\n",
    "strike = 40.0\n",
    "rate = 0.08\n",
    "vol = 0.3\n",
    "div = 0.0\n",
    "expiry = 1.0\n",
    "steps = 52\n",
    "reps = [1000, 10000, 25000, 50000, 75000, 100000]\n",
    "the_call = VanillaOption(strike, expiry, call_payoff)\n",
    "the_put = VanillaOption(strike, expiry, put_payoff)"
   ]
  },
  {
   "cell_type": "code",
   "execution_count": 33,
   "metadata": {},
   "outputs": [
    {
     "name": "stdout",
     "output_type": "stream",
     "text": [
      "Naive Monte Carlo using Antithetic Sampling Call with  1000  reps: \n",
      " Estimated Price:   7.0939 \n",
      " Standard Error:   0.2420\n",
      "Naive Monte Carlo using Antithetic Sampling Put with  1000  reps: \n",
      " Estimated Price:   2.9382 \n",
      " Standard Error:   0.1125\n",
      "Naive Monte Carlo using Antithetic Sampling Call with  10000  reps: \n",
      " Estimated Price:   7.0226 \n",
      " Standard Error:   0.0766\n",
      "Naive Monte Carlo using Antithetic Sampling Put with  10000  reps: \n",
      " Estimated Price:   2.9153 \n",
      " Standard Error:   0.0351\n",
      "Naive Monte Carlo using Antithetic Sampling Call with  25000  reps: \n",
      " Estimated Price:   6.9274 \n",
      " Standard Error:   0.0475\n",
      "Naive Monte Carlo using Antithetic Sampling Put with  25000  reps: \n",
      " Estimated Price:   2.8706 \n",
      " Standard Error:   0.0220\n",
      "Naive Monte Carlo using Antithetic Sampling Call with  50000  reps: \n",
      " Estimated Price:   6.9456 \n",
      " Standard Error:   0.0338\n",
      "Naive Monte Carlo using Antithetic Sampling Put with  50000  reps: \n",
      " Estimated Price:   2.8822 \n",
      " Standard Error:   0.0157\n",
      "Naive Monte Carlo using Antithetic Sampling Call with  75000  reps: \n",
      " Estimated Price:   6.9595 \n",
      " Standard Error:   0.0276\n",
      "Naive Monte Carlo using Antithetic Sampling Put with  75000  reps: \n",
      " Estimated Price:   2.8818 \n",
      " Standard Error:   0.0127\n",
      "Naive Monte Carlo using Antithetic Sampling Call with  100000  reps: \n",
      " Estimated Price:   6.9726 \n",
      " Standard Error:   0.0239\n",
      "Naive Monte Carlo using Antithetic Sampling Put with  100000  reps: \n",
      " Estimated Price:   2.8898 \n",
      " Standard Error:   0.0111\n"
     ]
    }
   ],
   "source": [
    "for i in range(len(reps)):\n",
    "    result_call = antithetic_monte_carlo_pricer(the_call, spot, rate, vol, div, reps[i])\n",
    "    result_put = antithetic_monte_carlo_pricer(the_put, spot, rate, vol, div, reps[i]) \n",
    "    print(\"Naive Monte Carlo using Antithetic Sampling Call with \", reps[i], \" reps: \\n Estimated Price: %8.4f \\n Standard Error: %8.4f\" % (result_call[0], result_call[1]))\n",
    "    print(\"Naive Monte Carlo using Antithetic Sampling Put with \", reps[i], \" reps: \\n Estimated Price: %8.4f \\n Standard Error: %8.4f\" % (result_put[0], result_put[1]))"
   ]
  },
  {
   "cell_type": "markdown",
   "metadata": {},
   "source": [
    "| Number of Repitions | Estimated Price of Call | Estimated Price of Call w/ Antithetic | Standard Error of Call | Standard Error of Call w/ Antithetic |Estimated Price of Put |Estimated Price of Put w/ Antithetic | Standard Error of Put| Standard Error of Put w/ Antithetic|\n",
    "|------|------|------|------|------|------|------|------|------|\n",
    "| M = 1000   | 7.0311 | 7.0939 |0.3412 | 0.2420 | 2.9624 | 2.9382 |0.1595 | 0.1125 |\n",
    "| M = 10000  | 6.9795 | 7.0226 |0.1064 | 0.0766 | 2.8966 | 2.9153 |0.0494 | 0.0351 |\n",
    "| M = 25000  | 7.0540 | 6.9274 |0.0682 | 0.0475 | 2.8923 | 2.8706 |0.0314 | 0.0220 |\n",
    "| M = 50000  | 6.9673 | 6.9456 |0.0478 | 0.0338 | 2.8846 | 2.8822 |0.0221 | 0.0157 |\n",
    "| M = 75000  | 7.0687 | 6.9595 |0.0395 | 0.0276 | 2.8767 | 2.8818 |0.0181 | 0.0127 |\n",
    "| M = 100000 | 6.9641 | 6.9726 |0.0339 | 0.0239 | 2.8732 | 2.8898 |0.0156 | 0.0111 |\n"
   ]
  },
  {
   "cell_type": "markdown",
   "metadata": {},
   "source": [
    "### Results\n",
    "\n",
    "As we can see in the table above, the standard errors using the antithetic sampling method reduces the standard error of the price estimate for the given repition size. This is true for both the estimated call and put prices. This makes sense as antithetic sampling is ultimately artificailly doubling the sample size which will decrease our standard error. "
   ]
  },
  {
   "cell_type": "markdown",
   "metadata": {},
   "source": [
    "## Problem 3"
   ]
  },
  {
   "cell_type": "code",
   "execution_count": 34,
   "metadata": {},
   "outputs": [],
   "source": [
    "spot = 41.0\n",
    "strike = 40.0\n",
    "rate = 0.08\n",
    "vol = 0.3\n",
    "div = 0.0\n",
    "expiry = 1.0\n",
    "steps = 52\n",
    "reps = [1000, 10000, 25000, 50000, 75000, 100000]\n",
    "the_call = VanillaOption(strike, expiry, call_payoff)\n",
    "the_put = VanillaOption(strike, expiry, put_payoff)"
   ]
  },
  {
   "cell_type": "code",
   "execution_count": 35,
   "metadata": {},
   "outputs": [
    {
     "name": "stdout",
     "output_type": "stream",
     "text": [
      "Naive Monte Carlo using Stratified Sampling Call with  1000  reps: \n",
      " Estimated Price:   6.9597 \n",
      " Standard Error:   0.3376\n",
      "Naive Monte Carlo using Stratified Sampling Put with  1000  reps: \n",
      " Estimated Price:   2.8996 \n",
      " Standard Error:   0.1591\n",
      "Naive Monte Carlo using Stratified Sampling Call with  10000  reps: \n",
      " Estimated Price:   6.9614 \n",
      " Standard Error:   0.1069\n",
      "Naive Monte Carlo using Stratified Sampling Put with  10000  reps: \n",
      " Estimated Price:   2.8869 \n",
      " Standard Error:   0.0495\n",
      "Naive Monte Carlo using Stratified Sampling Call with  25000  reps: \n",
      " Estimated Price:   6.9609 \n",
      " Standard Error:   0.0676\n",
      "Naive Monte Carlo using Stratified Sampling Put with  25000  reps: \n",
      " Estimated Price:   2.8861 \n",
      " Standard Error:   0.0313\n",
      "Naive Monte Carlo using Stratified Sampling Call with  50000  reps: \n",
      " Estimated Price:   6.9610 \n",
      " Standard Error:   0.0478\n",
      "Naive Monte Carlo using Stratified Sampling Put with  50000  reps: \n",
      " Estimated Price:   2.8859 \n",
      " Standard Error:   0.0221\n",
      "Naive Monte Carlo using Stratified Sampling Call with  75000  reps: \n",
      " Estimated Price:   6.9610 \n",
      " Standard Error:   0.0390\n",
      "Naive Monte Carlo using Stratified Sampling Put with  75000  reps: \n",
      " Estimated Price:   2.8858 \n",
      " Standard Error:   0.0180\n",
      "Naive Monte Carlo using Stratified Sampling Call with  100000  reps: \n",
      " Estimated Price:   6.9610 \n",
      " Standard Error:   0.0338\n",
      "Naive Monte Carlo using Stratified Sampling Put with  100000  reps: \n",
      " Estimated Price:   2.8858 \n",
      " Standard Error:   0.0156\n"
     ]
    }
   ],
   "source": [
    "for i in range(len(reps)):\n",
    "    result_call = stratified_monte_carlo_pricer(the_call, spot, rate, vol, div, reps[i])\n",
    "    result_put = stratified_monte_carlo_pricer(the_put, spot, rate, vol, div, reps[i]) \n",
    "    print(\"Naive Monte Carlo using Stratified Sampling Call with \", reps[i], \" reps: \\n Estimated Price: %8.4f \\n Standard Error: %8.4f\" % (result_call[0], result_call[1]))\n",
    "    print(\"Naive Monte Carlo using Stratified Sampling Put with \", reps[i], \" reps: \\n Estimated Price: %8.4f \\n Standard Error: %8.4f\" % (result_put[0], result_put[1]))"
   ]
  },
  {
   "cell_type": "markdown",
   "metadata": {},
   "source": [
    "| Number of Repitions | Estimated Price of Call | Estimated Price of Call w/ Antithetic |Estimated Price of Call w/ Stratified| Standard Error of Call | Standard Error of Call w/ Antithetic |Standard Error of Call w/ Stratified|Estimated Price of Put |Estimated Price of Put w/ Antithetic |Estimated Price of Put w/ Stratified|Standard Error of Put| Standard Error of Put w/ Antithetic|Standard Error of Putw/ Stratified|\n",
    "|------|------|------|------|------|------|------|------|------|------|------|------|------|\n",
    "| M = 1000   | 7.0311 | 7.0939 | 6.9597 |0.3412 | 0.2420 | 0.3376 | 2.9624 | 2.9382 | 2.8996 | 0.1595 | 0.1125 | 0.1591 |\n",
    "| M = 10000  | 6.9795 | 7.0226 | 6.9614 |0.1064 | 0.0766 | 0.1069 | 2.8966 | 2.9153 | 2.8869 | 0.0494 | 0.0351 | 0.0495 |\n",
    "| M = 25000  | 7.0540 | 6.9274 | 6.9609 |0.0682 | 0.0475 | 0.0676 | 2.8923 | 2.8706 | 2.8861 | 0.0314 | 0.0220 | 0.0313 |\n",
    "| M = 50000  | 6.9673 | 6.9456 | 6.9610 |0.0478 | 0.0338 | 0.0478 | 2.8846 | 2.8822 | 2.8859 | 0.0221 | 0.0157 | 0.0221 |\n",
    "| M = 75000  | 7.0687 | 6.9595 | 6.9610 |0.0395 | 0.0276 | 0.0390 | 2.8767 | 2.8818 | 2.8858 | 0.0181 | 0.0127 | 0.0180 |\n",
    "| M = 100000 | 6.9641 | 6.9726 | 6.9610 |0.0339 | 0.0239 | 0.0338 | 2.8732 | 2.8898 | 2.8858 | 0.0156 | 0.0111 | 0.0156 |\n"
   ]
  },
  {
   "cell_type": "markdown",
   "metadata": {},
   "source": [
    "### Results\n",
    "\n",
    "As we can see in the table above, the standard errors for the stratified samples are similar to the usual standard errors. However, through repeated samples, we noticed that the sample standard deviation from the stratified was much more consistent compared to the usual sample standard deviation. This would make sense as when we take a stratified sample, we are making the distribution of the sample much more consistent."
   ]
  }
 ],
 "metadata": {
  "kernelspec": {
   "display_name": "Python 3",
   "language": "python",
   "name": "python3"
  },
  "language_info": {
   "codemirror_mode": {
    "name": "ipython",
    "version": 3
   },
   "file_extension": ".py",
   "mimetype": "text/x-python",
   "name": "python",
   "nbconvert_exporter": "python",
   "pygments_lexer": "ipython3",
   "version": "3.7.1"
  }
 },
 "nbformat": 4,
 "nbformat_minor": 2
}
