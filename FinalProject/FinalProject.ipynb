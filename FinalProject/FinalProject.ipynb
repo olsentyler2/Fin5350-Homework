{
 "cells": [
  {
   "cell_type": "markdown",
   "metadata": {},
   "source": [
    "# Final Project\n",
    "### Project 2\n",
    "##### Dan Cardall, Xiaoyan Mi, Pablo"
   ]
  },
  {
   "cell_type": "code",
   "execution_count": 50,
   "metadata": {},
   "outputs": [],
   "source": [
    "from pricers3 import *\n",
    "from payoffs import *\n",
    "from monte_carlo_pricers import *"
   ]
  },
  {
   "cell_type": "code",
   "execution_count": 54,
   "metadata": {},
   "outputs": [],
   "source": [
    "spot = 100.0\n",
    "strike = 100.0\n",
    "rate = 0.06\n",
    "vol = 0.20\n",
    "div = 0.03\n",
    "expiry = 1.0\n",
    "steps = 52\n",
    "reps = 10000"
   ]
  },
  {
   "cell_type": "code",
   "execution_count": 34,
   "metadata": {},
   "outputs": [],
   "source": [
    "beta = -1\n",
    "the_call = VanillaOption(strike, expiry, call_payoff)\n",
    "result = naive_monte_carlo_pricer(the_call, spot, rate, vol, div, reps)\n",
    "result2 =  antithetic_monte_carlo_pricer(the_call, spot, rate, vol, div, reps)\n",
    "result3 = control_variate_pricer_antithetic(the_call, spot, rate, vol, div, steps, reps, beta)\n",
    "result4 = control_variate_pricer_antithetic_gamma(the_call, spot, rate, vol, div, steps, reps, beta)"
   ]
  },
  {
   "cell_type": "code",
   "execution_count": 35,
   "metadata": {},
   "outputs": [
    {
     "name": "stdout",
     "output_type": "stream",
     "text": [
      "Naive Monte Carlo: \n",
      " Estimated Price:   9.0446, \n",
      " Standard Error:   0.1358\n",
      "Antithetic Monte Carlo: \n",
      " Estimated Price:   9.1242, \n",
      " Standard Error:   0.1026\n",
      "Black-Scholes Delta CV Monte Carlo with Antithetic Sampmling: \n",
      " Estimated Price:   9.1129, \n",
      " Standard Error:   0.0107\n",
      "Black-Scholes Delta & Gamma CV with Antithetic Sampling: \n",
      " Estimated Price:   9.1369, \n",
      " Standard Error:   0.0046\n"
     ]
    }
   ],
   "source": [
    "print(\"Naive Monte Carlo: \\n Estimated Price: %8.4f, \\n Standard Error: %8.4f\" % (result[0], result[1]))\n",
    "print(\"Antithetic Monte Carlo: \\n Estimated Price: %8.4f, \\n Standard Error: %8.4f\" % (result2[0], result2[1]))\n",
    "print(\"Black-Scholes Delta CV Monte Carlo with Antithetic Sampmling: \\n Estimated Price: %8.4f, \\n Standard Error: %8.4f\" % (result3[0], result3[1]))\n",
    "print(\"Black-Scholes Delta & Gamma CV with Antithetic Sampling: \\n Estimated Price: %8.4f, \\n Standard Error: %8.4f\" % (result4[0], result4[1]))\n"
   ]
  },
  {
   "cell_type": "markdown",
   "metadata": {},
   "source": [
    "| Method | Estimated Price | Standard Error | Time to Run |\n",
    "| --- | --- | --- | --- |\n",
    "| Naive Monte Carlo | 9.0446 | 0.1358 | 997 microseconds |\n",
    "| Antithetic Monte Carlo | 9.1242 | 0.1026 | 41.1 milliseconds |\n",
    "| Black-Scholes Delta CV Monte Carlo with Antithetic Sampling | 9.1129 | 0.0107 | 48.4 seconds |\n",
    "| Black-Scholes Delta & Gamma CV with Antithetic Sampling | 9.1369 | 0.0046 | 1 minute 45 seconds |\n"
   ]
  },
  {
   "cell_type": "markdown",
   "metadata": {},
   "source": [
    "### Results\n",
    "As we can see in the table above, as we move down the different estimation methods the smaller the standard error becomes for our estimated price. The Naive Monte Carlo has the biggest standard error with .1358. When we implemented the Antithetic Monte Carlo, we saw a reduction of .0332 in our standard error. This is because with Antithetic sampling method, we are ulitimately doubling our sample size. \n",
    "\n",
    "Next we moved on to the two Black Scholes models. The first one was a Black-Scholes based Delta Control Variate Monte Carlo with Antithetic Sampling method. Here we saw the standard error drop from .1358 in the Naive Monte Carlo to .0107. This was a very large reduction in the standard error. With this method we still get the benefit of artificially doubling our sample size with the antithetic sampling method, but we also introduced a control variate. The control variate acts as a hedge, called the delta hedge.This delta hedge is rebalanced in discrete time intervals which leads to a rebalancing in the holding of the asset.  This process greatly reduces the variance of the payoff of the option.  \n",
    "\n",
    "Finally, we get to the Black-Scholes Delta and Gamma control variates with Antithetic sampling method. This method has a standard error of .0046. This is a great reduction compared to the .1358 in the Naive Monte Carlo method. Again with this method, we get the benefit of antithetic sampling and delta hedging. Now we add a gamma based control variate which reduces the standard error even further than before. \n",
    "\n",
    "Although the Black-Scholes Delta and Gamma control variates with Antithetic sampling method significantly reduced the standard error compared to teh Naive Monte Carlo, it also took a lot longer to compute. The Naive Monte Carlo only took 997 microseconds compared to 1 minute 45 seconds the Black-Scholes Delta and Gamma control variates with Antithetic sampling method took. However, if we wanted to get a standard error close to .0046 with the Naive Monte Carlo, it would take approximately 8,715,331 simulations. The real reason behind this time discrepancy is probably more with our poor coding skills than the actual method, but it would be interesting to further investigate the trade off of standard error with computing time and to try to optimize it. "
   ]
  }
 ],
 "metadata": {
  "kernelspec": {
   "display_name": "Python 3",
   "language": "python",
   "name": "python3"
  },
  "language_info": {
   "codemirror_mode": {
    "name": "ipython",
    "version": 3
   },
   "file_extension": ".py",
   "mimetype": "text/x-python",
   "name": "python",
   "nbconvert_exporter": "python",
   "pygments_lexer": "ipython3",
   "version": "3.7.1"
  }
 },
 "nbformat": 4,
 "nbformat_minor": 2
}
